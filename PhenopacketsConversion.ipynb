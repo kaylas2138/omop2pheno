{
 "cells": [
  {
   "cell_type": "markdown",
   "metadata": {},
   "source": [
    "# OMOP to Phenopackets Conversion\n",
    "\n"
   ]
  },
  {
   "cell_type": "code",
   "execution_count": 1,
   "metadata": {},
   "outputs": [],
   "source": [
    "import pymssql\n",
    "import convertPheno\n",
    "import time"
   ]
  },
  {
   "cell_type": "markdown",
   "metadata": {},
   "source": [
    "## SQL Database Connection\n",
    "Replace with appropriate server connection details and database names. **All inputs to be changed are within this block**"
   ]
  },
  {
   "cell_type": "code",
   "execution_count": 2,
   "metadata": {},
   "outputs": [],
   "source": [
    "# Define the database connection parameters\n",
    "server = 'INPUT SERVER DETAILS'\n",
    "user = 'INPUT USER DETAILS'\n",
    "password = 'INPUT PASSWORD'  \n",
    "database = 'INPUT DATABASE NAME'\n",
    "\n",
    "# Create a connection to the SQL Server, and cursor to execute queries\n",
    "conn = pymssql.connect(server=server, user=user, password=password, database=database)\n",
    "cur = conn.cursor()"
   ]
  },
  {
   "cell_type": "markdown",
   "metadata": {},
   "source": [
    "# Input Variables"
   ]
  },
  {
   "cell_type": "code",
   "execution_count": 3,
   "metadata": {},
   "outputs": [],
   "source": [
    "db = '''DATABASENAME.dbo.''' # Database storing patient data\n",
    "ohdsi_db = '''OHDSI_DATABASENAME.dbo.''' # Database storing OHDSI vocabulary data\n",
    "pid = '''(123456,123457,123458)''' # Insert comma separated list of person_ids (any number of pids >= 1)\n",
    "\n",
    "# File path to the semantic type mapping file\n",
    "sem_mapping_file = '../data/semantic_type_map.csv'\n",
    "\n",
    "# Name of user - for metadata\n",
    "name = 'INPUT USER NAME'\n",
    "\n",
    "# Filepath to store Phenopacket JSONs\n",
    "output_path = '/FILE PATH TO STORE PHENOPACKETS/' "
   ]
  },
  {
   "cell_type": "markdown",
   "metadata": {},
   "source": [
    "# Phenopacket Creation"
   ]
  },
  {
   "cell_type": "markdown",
   "metadata": {},
   "source": [
    "## Domain Transformation\n",
    "\n",
    "The result of this block is a dictionary for each domain (*Individual, Condition, PhenotypicFeature, Measurement, Treatment, Procedure*). Each dictionary's keys are person IDs, and their values are a list of entries for that entity. This block also produces logging for experimental evaluation. \n",
    "\n",
    "For each domain, three functions are executed: \n",
    "* *get_DOMAIN_query* extracts the OMOP SQL data \n",
    "* *parse_DOMAIN* converts the SQL records to the fields specified by Phenopackets documentation\n",
    "* *createDictDOMAIN* transform data types and values, and formats the data according to Phenopackets specification\n",
    "* *createPhenoDOMAIN* converts each indivdual's domain dictionaries to Phenopacket objects\n",
    "\n",
    "Special notes:\n",
    "* **Individual** entity combines data extracted from both the *individual* and the *vital_status* query. The output for the Individual entity is a dictionary whose values are an Individual dictionary itself (as opposed to the other domains that are lists), given that the subejct data has only one entry for each field. \n",
    "* **Condition and PhenotypicFeature** *parse_Conditions* implements semantic type filtering and provides two outputs. The second output is combined with the extracted data from the *PhenotypicFeature* query. \n",
    "\n",
    "\n",
    "\n"
   ]
  },
  {
   "cell_type": "code",
   "execution_count": null,
   "metadata": {},
   "outputs": [],
   "source": [
    "# Tracking time\n",
    "t1 = time.time()\n",
    "\n",
    "# Individual and Vitals\n",
    "cur.execute(convertPheno.get_individual_query(pid, db))\n",
    "records =cur.fetchall()\n",
    "mydict = convertPheno.parse_Individual(records)\n",
    "\n",
    "cur.execute(convertPheno.get_vitalstatus_query(pid, db))\n",
    "records = cur.fetchall()\n",
    "vsdict = convertPheno.parse_VitalStatus(records)\n",
    "\n",
    "idict_all = convertPheno.createDictIndividual(mydict,vsdict)\n",
    "\n",
    "indiv_phenos = {}\n",
    "for key, value in idict_all.items():\n",
    "    indiv_phenos[key] = convertPheno.createPhenoIndividual(value) \n",
    "\n",
    "ellapsed_time = (time.time() - t1) / 60\n",
    "print(f'Individual data extracted and transformed - {ellapsed_time:.01f} min')\n",
    "\n",
    "# Conditions\n",
    "phefeatures = convertPheno.get_sem_mapping(sem_mapping_file)\n",
    "\n",
    "cur.execute(convertPheno.get_condition_query(pid, db, ohdsi_db))\n",
    "records = cur.fetchall()\n",
    "condict, phedict1 = convertPheno.parse_Conditions(records, phefeatures)\n",
    "conlist = convertPheno.createListDictConditions(condict)\n",
    "\n",
    "condition_phenos = {}\n",
    "for key, value in conlist.items():\n",
    "    condition_phenos[key] = convertPheno.createPhenoConditions(value) \n",
    "\n",
    "ellapsed_time = (time.time() - t1) / 60\n",
    "print(f'Conditions data extracted and transformed - {ellapsed_time:.01f} min')\n",
    "\n",
    "# PhenotypicFeatures\n",
    "cur.execute(convertPheno.get_phenofeature_query(pid, db, ohdsi_db))\n",
    "records = cur.fetchall()\n",
    "phedict2 = convertPheno.parse_PhenoFeatures(records)\n",
    "\n",
    "phelist1 = convertPheno.createListDictPhenoFeature(phedict1, flag = 'condition')\n",
    "phelist2 = convertPheno.createListDictPhenoFeature(phedict2, flag = 'observation')\n",
    "phelist = convertPheno.combineDicts(phelist1, phelist2)\n",
    "\n",
    "feature_phenos = {}\n",
    "for key, value in phelist.items():\n",
    "    feature_phenos[key] = convertPheno.createPhenoFeature(value) \n",
    "    \n",
    "ellapsed_time = (time.time() - t1) / 60\n",
    "print(f'PhenotypicFeature data extracted and transformed - {ellapsed_time:.01f} min')\n",
    "\n",
    "# Measurement\n",
    "cur.execute(convertPheno.get_measurement_query(pid,db,ohdsi_db))\n",
    "records = cur.fetchall()\n",
    "mesdict = convertPheno.parse_Measurements(records)\n",
    "meslist = convertPheno.createListDictMeasurements(mesdict)\n",
    "measurement_phenos = {}\n",
    "for key, value in meslist.items():\n",
    "    measurement_phenos[key] = convertPheno.createPhenoMeasurement(value) \n",
    "\n",
    "ellapsed_time = (time.time() - t1) / 60\n",
    "print(f'Measurement data extracted and transformed - {ellapsed_time:.01f} min')\n",
    "\n",
    "# Treatment\n",
    "cur.execute(convertPheno.get_treatment_query(pid,db,ohdsi_db))\n",
    "records = cur.fetchall()\n",
    "txdict = convertPheno.parse_Treatments(records)\n",
    "txlist = convertPheno.createListDictTreatment(txdict)\n",
    "treatment_phenos = {}\n",
    "for key, value in txlist.items():\n",
    "    treatment_phenos[key] = convertPheno.createPhenoTreatment(value) # dictionary where key is PID, value is list of phenopackets.schema.v2.core.medical_action_pb2.Treatment entities\n",
    "\n",
    "ellapsed_time = (time.time() - t1) / 60\n",
    "print(f'Treatment data extracted and transformed - {ellapsed_time:.01f} min')\n",
    "\n",
    "# Procedure\n",
    "cur.execute(convertPheno.get_procedure_query(pid,db,ohdsi_db))\n",
    "records = cur.fetchall()\n",
    "procdict = convertPheno.parse_Procedures(records)\n",
    "proclist = convertPheno.createListDictProcedures(procdict)\n",
    "procedure_phenos = {}\n",
    "for key, value in proclist.items():\n",
    "    procedure_phenos[key] = convertPheno.createPhenoProcedure(value) # dictionary where key is PID, value is list of phenopackets.schema.v2.core.medical_action_pb2.Procedure entities\n",
    "\n",
    "ellapsed_time = (time.time() - t1) / 60\n",
    "print(f'Procedure data extracted and transformed - {ellapsed_time:.01f} min')"
   ]
  },
  {
   "cell_type": "markdown",
   "metadata": {},
   "source": [
    "## Phenopacket Generation\n",
    "* Generate metadata for the given Phenopacket\n",
    "* Generate the overall Phenopacket, combining domains\n",
    "* Writes the Phenopacket to JSON"
   ]
  },
  {
   "cell_type": "code",
   "execution_count": null,
   "metadata": {},
   "outputs": [],
   "source": [
    "t1 = time.time()\n",
    "\n",
    "meta_data=convertPheno.createMetadata(name)\n",
    "\n",
    "count_pids = 0\n",
    "\n",
    "for pid in indiv_phenos.keys():\n",
    "\n",
    "    medical_act_args = {\n",
    "        'txpheno': treatment_phenos[pid] if pid in treatment_phenos else None,\n",
    "        'procpheno': procedure_phenos[pid] if pid in procedure_phenos else None\n",
    "    }\n",
    "    \n",
    "    medicalactpheno = convertPheno.createPhenoMedicalAction(**medical_act_args)\n",
    "\n",
    "    # Create a dictionary of arguments with values if pid exists in the respective dictionaries\n",
    "    pheno_args = {\n",
    "        'myid': str(pid),\n",
    "        'meta_data': meta_data,\n",
    "        'subject': indiv_phenos[pid] if pid in indiv_phenos else None,\n",
    "        'phenotypic_features': feature_phenos[pid] if pid in feature_phenos else None,\n",
    "        'measurements': measurement_phenos[pid] if pid in measurement_phenos else None,\n",
    "        'diseases': condition_phenos[pid] if pid in condition_phenos else None,\n",
    "        'medical_actions': medicalactpheno if (len(medicalactpheno) > 0) else None\n",
    "    }\n",
    "\n",
    "    pheno = convertPheno.createPheno(**pheno_args)\n",
    "\n",
    "    # Write Phenopacket\n",
    "    # outputfile = \"PATH_\" + time.strftime(\"%Y%m%d\") + '_' + pid + '.json'\n",
    "    outputfile = output_path + \"phenopacket_\" + time.strftime(\"%Y%m%d\") + '_' + str(pid) + '.json'\n",
    "    pheno_json= convertPheno.MessageToJson(pheno)\n",
    "    with open(outputfile,'w') as of:\n",
    "        of.write(pheno_json)\n",
    "        print(f'{pid}: phenopacket written in file {outputfile}')\n",
    "    \n",
    "    # Tracking time \n",
    "    count_pids += 1 \n",
    "    ellapsed_time = (time.time() - t1) / 60\n",
    "    if(count_pids % 10 == 0): print(f'{count_pids} - {ellapsed_time:.01f} min')"
   ]
  }
 ],
 "metadata": {
  "kernelspec": {
   "display_name": "subgroup_env",
   "language": "python",
   "name": "python3"
  },
  "language_info": {
   "codemirror_mode": {
    "name": "ipython",
    "version": 3
   },
   "file_extension": ".py",
   "mimetype": "text/x-python",
   "name": "python",
   "nbconvert_exporter": "python",
   "pygments_lexer": "ipython3",
   "version": "3.8.1"
  }
 },
 "nbformat": 4,
 "nbformat_minor": 2
}
